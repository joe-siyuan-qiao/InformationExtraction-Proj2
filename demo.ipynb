{
 "cells": [
  {
   "cell_type": "markdown",
   "metadata": {},
   "source": [
    "## Demo for Project 2"
   ]
  },
  {
   "cell_type": "markdown",
   "metadata": {},
   "source": [
    "### Initialize environments and build models"
   ]
  },
  {
   "cell_type": "code",
   "execution_count": 1,
   "metadata": {
    "collapsed": false
   },
   "outputs": [
    {
     "name": "stdout",
     "output_type": "stream",
     "text": [
      "[init_training_trellis] 798/798 done\n"
     ]
    }
   ],
   "source": [
    "import os, sys, numpy as np\n",
    "sys.path.insert(0, 'python')\n",
    "import hmm, pickle\n",
    "\n",
    "# read data and initialize the model\n",
    "lblnames = os.path.join('data', 'clsp.lblnames')\n",
    "scr = os.path.join('data', 'clsp.trnscr')\n",
    "pts = os.path.join('data', 'clsp.endpts')\n",
    "lbl = os.path.join('data', 'clsp.trnlbls')\n",
    "\n",
    "trainer = hmm.Trainer()\n",
    "trainer.read_fenones(lblnames)\n",
    "trainer.pick_fenonic_baseforms(scr, pts, lbl)\n",
    "trainer.read_training_data(scr, lbl)\n",
    "\n",
    "trainer.build_baseforms()\n",
    "trainer.init_training_trellis()\n",
    "trainer.init_modelpool()\n",
    "trainer.update_trellis()"
   ]
  },
  {
   "cell_type": "markdown",
   "metadata": {},
   "source": [
    "## Primary System\n",
    "### problem 1\n",
    "A plot of the training data log-likelihood as a function of the number of iterations."
   ]
  },
  {
   "cell_type": "code",
   "execution_count": 2,
   "metadata": {
    "collapsed": false
   },
   "outputs": [
    {
     "name": "stdout",
     "output_type": "stream",
     "text": [
      "[training] 256 / 256 done\n"
     ]
    }
   ],
   "source": [
    "# train for 256 epochs\n",
    "alp_list = []\n",
    "trainer.forward()\n",
    "alp_list.append(trainer.getalp())\n",
    "\n",
    "for epoch in range(256):\n",
    "    sys.stdout.write('\\r[training] {:03d} / 256'.format(epoch + 1))\n",
    "    sys.stdout.flush()\n",
    "    trainer.backward()\n",
    "    trainer.update_modelpool()\n",
    "    trainer.update_trellis()\n",
    "    trainer.forward()\n",
    "    alp_list.append(trainer.getalp())\n",
    "print ' done'\n",
    "    \n",
    "with open(os.path.join('results', 'alp.p'), 'wb') as f:\n",
    "    pickle.dump(alp_list, f)"
   ]
  },
  {
   "cell_type": "code",
   "execution_count": 3,
   "metadata": {
    "collapsed": true
   },
   "outputs": [],
   "source": [
    "trainer.save_model(os.path.join('modelpool', 'model_256.p'))"
   ]
  },
  {
   "cell_type": "markdown",
   "metadata": {},
   "source": [
    "Plotting the mean ALP over the training_dataset"
   ]
  },
  {
   "cell_type": "code",
   "execution_count": 5,
   "metadata": {
    "collapsed": false
   },
   "outputs": [
    {
     "data": {
      "image/png": "[encoded data removed]",
      "text/plain": [
       "<matplotlib.figure.Figure at 0x7f6ebd97f290>"
      ]
     },
     "metadata": {},
     "output_type": "display_data"
    }
   ],
   "source": [
    "import matplotlib.pyplot as plt\n",
    "\n",
    "# load the alp_list\n",
    "with open(os.path.join('results', 'alp.p'), 'rb') as f:\n",
    "    alp_list = pickle.load(f)\n",
    "\n",
    "malg_x = [x for x in range(257)]\n",
    "malg_y = []\n",
    "for i in range(len(alp_list)):\n",
    "    malg_y.append(np.mean(alp_list[i]))\n",
    "plot = plt.plot(malg_x, malg_y, 'b-')\n",
    "plt.ylabel('Mean Average Log Probability')\n",
    "plt.xlabel('Iteration Number')\n",
    "plt.axis([0, 256, -6, -3.5])\n",
    "plt.savefig(os.path.join('results', 'p1.pdf'))\n",
    "plt.show()"
   ]
  },
  {
   "cell_type": "markdown",
   "metadata": {},
   "source": [
    "For each utterance in the test data, the identity of the most likely word and a confidence."
   ]
  },
  {
   "cell_type": "code",
   "execution_count": 7,
   "metadata": {
    "collapsed": false
   },
   "outputs": [
    {
     "name": "stdout",
     "output_type": "stream",
     "text": [
      "[testing] 393 / 393 done\n"
     ]
    }
   ],
   "source": [
    "# read dev data\n",
    "devwav = os.path.join('data', 'clsp.devwav')\n",
    "devlbl = os.path.join('data', 'clsp.devlbls')\n",
    "devwav = open(devwav).readlines()[1:]\n",
    "devlbl = open(devlbl).readlines()[1:]\n",
    "dev_list = []\n",
    "for i in range(len(devwav)):\n",
    "    wavline = devwav[i][:-1]\n",
    "    lblline = devlbl[i][:-1]\n",
    "    lblline = lblline.split(' ')[:-1]\n",
    "    dev_list.append([wavline, lblline])\n",
    "    \n",
    "infer_list = []\n",
    "for i in range(len(dev_list)):\n",
    "    sys.stdout.write('\\r[testing] {:03d} / {}'.format(\n",
    "            i + 1, len(dev_list)))\n",
    "    sys.stdout.flush()\n",
    "    word_list, score_list = trainer.infer(data=dev_list[i][1])\n",
    "    inferred = word_list[np.argmax(score_list)]\n",
    "    confidence = np.max(score_list)\n",
    "    infer_list.append([dev_list[i][0], inferred, confidence])\n",
    "print ' done'\n",
    "\n",
    "with open('results/dev.p', 'wb') as f:\n",
    "    pickle.dump(infer_list, f)"
   ]
  },
  {
   "cell_type": "markdown",
   "metadata": {},
   "source": [
    "## Contrastive System\n",
    "### Training + Validation"
   ]
  },
  {
   "cell_type": "code",
   "execution_count": 1,
   "metadata": {
    "collapsed": false
   },
   "outputs": [
    {
     "name": "stdout",
     "output_type": "stream",
     "text": [
      "[init_training_trellis] 654/654 done\n"
     ]
    }
   ],
   "source": [
    "import os, sys, numpy as np, random as rd\n",
    "sys.path.insert(0, 'python')\n",
    "import hmm, pickle\n",
    "\n",
    "rd.seed(1)\n",
    "\n",
    "# read data and initialize the model\n",
    "lblnames = os.path.join('data', 'clsp.lblnames')\n",
    "scr = os.path.join('data', 'clsp.trnscr')\n",
    "pts = os.path.join('data', 'clsp.endpts')\n",
    "lbl = os.path.join('data', 'clsp.trnlbls')\n",
    "\n",
    "trainer = hmm.Trainer()\n",
    "trainer.read_fenones(lblnames)\n",
    "trainer.pick_fenonic_baseforms(scr, pts, lbl)\n",
    "trainer.read_training_data(scr, lbl)\n",
    "\n",
    "# split the training data into training data and validation data\n",
    "training_data = trainer.training_data\n",
    "training_map = {}\n",
    "for i in range(len(training_data)):\n",
    "    word, data = training_data[i]\n",
    "    if not word in training_map:\n",
    "        training_map[word] = []\n",
    "    training_map[word].append(i)\n",
    "train_new, val_new = [], []\n",
    "for word in training_map:\n",
    "    val_ids = rd.sample(training_map[word], k=3)\n",
    "    train_ids = list(set(training_map[word])-set(val_ids))\n",
    "    for idx in val_ids:\n",
    "        val_new.append(training_data[idx])\n",
    "    for idx in train_ids:\n",
    "        train_new.append(training_data[idx])\n",
    "trainer.training_data = train_new\n",
    "\n",
    "trainer.build_baseforms()\n",
    "trainer.init_training_trellis()\n",
    "trainer.init_modelpool()\n",
    "trainer.update_trellis()"
   ]
  },
  {
   "cell_type": "markdown",
   "metadata": {},
   "source": [
    "train + validate"
   ]
  },
  {
   "cell_type": "code",
   "execution_count": 2,
   "metadata": {
    "collapsed": false
   },
   "outputs": [
    {
     "name": "stdout",
     "output_type": "stream",
     "text": [
      "[validating] 144 / 144 done\n",
      "malp: -5.646 @ 000 | accuracy: 0.590\n",
      "[validating] 144 / 144 done\n",
      "malp: -4.265 @ 001 | accuracy: 0.875\n",
      "[validating] 144 / 144 done\n",
      "malp: -4.090 @ 002 | accuracy: 0.882\n",
      "[validating] 144 / 144 done\n",
      "malp: -3.944 @ 003 | accuracy: 0.882\n",
      "[validating] 144 / 144 done\n",
      "malp: -3.882 @ 004 | accuracy: 0.854\n",
      "[validating] 144 / 144 done\n",
      "malp: -3.853 @ 005 | accuracy: 0.840\n",
      "[validating] 144 / 144 done\n",
      "malp: -3.837 @ 006 | accuracy: 0.833\n",
      "[validating] 144 / 144 done\n",
      "malp: -3.827 @ 007 | accuracy: 0.826\n",
      "[validating] 144 / 144 done\n",
      "malp: -3.820 @ 008 | accuracy: 0.785\n",
      "[validating] 144 / 144 done\n",
      "malp: -3.814 @ 009 | accuracy: 0.778\n",
      "[validating] 144 / 144 done\n",
      "malp: -3.810 @ 010 | accuracy: 0.771\n",
      "[validating] 144 / 144 done\n",
      "malp: -3.806 @ 011 | accuracy: 0.757\n",
      "[validating] 144 / 144 done\n",
      "malp: -3.803 @ 012 | accuracy: 0.743\n",
      "[validating] 144 / 144 done\n",
      "malp: -3.801 @ 013 | accuracy: 0.729\n",
      "[validating] 144 / 144 done\n",
      "malp: -3.799 @ 014 | accuracy: 0.729\n",
      "[validating] 144 / 144 done\n",
      "malp: -3.797 @ 015 | accuracy: 0.722\n",
      "[validating] 144 / 144 done\n",
      "malp: -3.796 @ 016 | accuracy: 0.715\n",
      "[validating] 144 / 144 done\n",
      "malp: -3.794 @ 017 | accuracy: 0.708\n",
      "[validating] 144 / 144 done\n",
      "malp: -3.793 @ 018 | accuracy: 0.708\n",
      "[validating] 144 / 144 done\n",
      "malp: -3.792 @ 019 | accuracy: 0.708\n",
      "[validating] 144 / 144 done\n",
      "malp: -3.791 @ 020 | accuracy: 0.708\n"
     ]
    }
   ],
   "source": [
    "trainer.forward()\n",
    "alp = trainer.getalp()\n",
    "acc = 0.0\n",
    "for i in range(len(val_new)):\n",
    "    sys.stdout.write('\\r[validating] {:03d} / {:03d}'.format(i+1, len(val_new)))\n",
    "    sys.stdout.flush()\n",
    "    word_list, score_list = trainer.infer(val_new[i][1])\n",
    "    inferred = word_list[np.argmax(score_list)]\n",
    "    if inferred == val_new[i][0]:\n",
    "        acc += 1\n",
    "print ' done'\n",
    "ratio = acc / len(val_new)\n",
    "print 'malp: {:.3f} @ {:03d} | accuracy: {:.3f}'.format(np.mean(alp), 0, ratio)\n",
    "for epoch in range(20):\n",
    "    trainer.backward()\n",
    "    trainer.update_modelpool()\n",
    "    trainer.update_trellis()\n",
    "    trainer.save_model(os.path.join('modelpool', 'model_{}.p'.format(epoch+1)))\n",
    "    trainer.forward()\n",
    "    alp = trainer.getalp()\n",
    "    acc = 0.0\n",
    "    for i in range(len(val_new)):\n",
    "        sys.stdout.write('\\r[validating] {:03d} / {:03d}'.format(i+1, len(val_new)))\n",
    "        sys.stdout.flush()\n",
    "        word_list, score_list = trainer.infer(val_new[i][1])\n",
    "        inferred = word_list[np.argmax(score_list)]\n",
    "        if inferred == val_new[i][0]:\n",
    "            acc += 1\n",
    "    print ' done'\n",
    "    ratio = acc / len(val_new)\n",
    "    print 'malp: {:.3f} @ {:03d} | accuracy: {:.3f}'.format(np.mean(alp), epoch + 1, ratio)"
   ]
  }
 ],
 "metadata": {
  "kernelspec": {
   "display_name": "Python 2",
   "language": "python",
   "name": "python2"
  },
  "language_info": {
   "codemirror_mode": {
    "name": "ipython",
    "version": 2
   },
   "file_extension": ".py",
   "mimetype": "text/x-python",
   "name": "python",
   "nbconvert_exporter": "python",
   "pygments_lexer": "ipython2",
   "version": "2.7.12"
  }
 },
 "nbformat": 4,
 "nbformat_minor": 1
}
